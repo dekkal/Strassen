{
 "cells": [
  {
   "cell_type": "code",
   "execution_count": 1,
   "metadata": {},
   "outputs": [],
   "source": [
    "import numpy as np\n",
    "import time"
   ]
  },
  {
   "cell_type": "code",
   "execution_count": null,
   "metadata": {},
   "outputs": [],
   "source": []
  },
  {
   "cell_type": "code",
   "execution_count": 2,
   "metadata": {},
   "outputs": [],
   "source": [
    "def read_input(input):\n",
    "    \n",
    "    Matrice = np.loadtxt(input,dtype='i',delimiter=' ')\n",
    "    #Seperate array\n",
    "    Matrice1,Matrice2 = np.split(Matrice,2,axis=0)\n",
    "    return Matrice1, Matrice2 "
   ]
  },
  {
   "cell_type": "code",
   "execution_count": 3,
   "metadata": {},
   "outputs": [],
   "source": [
    "def save_ouput(output):\n",
    "    output_array = np.savetxt(\"output.txt\",output,delimiter=' ')"
   ]
  },
  {
   "cell_type": "code",
   "execution_count": 6,
   "metadata": {},
   "outputs": [],
   "source": [
    "def naif(Matrice1,Matrice2):\n",
    "    \n",
    "    n = len(Matrice1)\n",
    "    print(len(Matrice1))\n",
    "    result = np.zeros((n,n))\n",
    "\n",
    "    for i in range(n):\n",
    "        for j in range(n):\n",
    "            for k in range(n):\n",
    "                result[i,j] += Matrice1[i,k] *Matrice2[k,j]\n",
    "    return result\n"
   ]
  },
  {
   "cell_type": "code",
   "execution_count": 8,
   "metadata": {},
   "outputs": [
    {
     "name": "stdout",
     "output_type": "stream",
     "text": [
      "1024\n"
     ]
    }
   ],
   "source": [
    "if __name__ == \"__main__\":\n",
    "    Matrice1,Matrice2 = read_input('input.txt')\n",
    "    start_time = time.time()\n",
    "    output =naif(Matrice1,Matrice2)\n",
    "    print(\"TIME TAKEN: \",time.time()-start_time)\n",
    "    save_ouput(output)"
   ]
  }
 ],
 "metadata": {
  "interpreter": {
   "hash": "916dbcbb3f70747c44a77c7bcd40155683ae19c65e1c03b4aa3499c5328201f1"
  },
  "kernelspec": {
   "display_name": "Python 3.8.10 64-bit",
   "language": "python",
   "name": "python3"
  },
  "language_info": {
   "codemirror_mode": {
    "name": "ipython",
    "version": 3
   },
   "file_extension": ".py",
   "mimetype": "text/x-python",
   "name": "python",
   "nbconvert_exporter": "python",
   "pygments_lexer": "ipython3",
   "version": "3.8.10"
  },
  "orig_nbformat": 4
 },
 "nbformat": 4,
 "nbformat_minor": 2
}
