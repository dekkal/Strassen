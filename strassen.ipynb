{
 "cells": [
  {
   "cell_type": "code",
   "execution_count": 1,
   "metadata": {},
   "outputs": [],
   "source": [
    "import numpy as np\n",
    "import time"
   ]
  },
  {
   "cell_type": "code",
   "execution_count": 2,
   "metadata": {},
   "outputs": [],
   "source": [
    "def read_input(input):\n",
    "    \n",
    "    Matrice = np.loadtxt(input,dtype='i',delimiter=' ')\n",
    "    #Seperate array\n",
    "    matrice1,matrice2 = np.split(Matrice,2,axis=0)\n",
    "    return matrice1, matrice2 "
   ]
  },
  {
   "cell_type": "code",
   "execution_count": 3,
   "metadata": {},
   "outputs": [],
   "source": [
    "def save_ouput(output):\n",
    "    output_array = np.savetxt(\"output.txt\",output,delimiter=' ')"
   ]
  },
  {
   "cell_type": "code",
   "execution_count": 4,
   "metadata": {},
   "outputs": [],
   "source": [
    "def strassen(matrice1,matrice2):\n",
    "    n = len(matrice1)\n",
    "    if n == 1:\n",
    "        return matrice1 * matrice2\n",
    "    else:\n",
    "        a11 = matrice1[:int(len(matrice1)/2),:int(len(matrice1)/2)]\n",
    "        a12 = matrice1[:int(len(matrice1)/2),int(len(matrice1)/2):]\n",
    "        a21 = matrice1[int(len(matrice1)/2):,:int(len(matrice1)/2)]\n",
    "        a22 = matrice1[int(len(matrice1)/2):,int(len(matrice1)/2):]\n",
    "\n",
    "        b11 = matrice2[:int(len(matrice2)/2),:int(len(matrice2)/2)]\n",
    "        b12 = matrice2[:int(len(matrice2)/2),int(len(matrice2)/2):]\n",
    "        b21 = matrice2[int(len(matrice2)/2):,:int(len(matrice2)/2)]\n",
    "        b22 = matrice2[int(len(matrice2)/2):,int(len(matrice2)/2):]\n",
    "\n",
    "        S1 = b12 - b22\n",
    "        S2 = a11 + a12\n",
    "        S3 = a21 + a22\n",
    "        S4 = b21 - b11\n",
    "        S5 = a11 + a22\n",
    "        S6 = b11 + b22\n",
    "        S7 = a12 - a22\n",
    "        S8 = b21 + b22\n",
    "        S9 = a11 - a21\n",
    "        S10 = b11 + b12\n",
    "        \n",
    "        P1 = strassen(a11,S1)\n",
    "        P2 = strassen(S2,b22)\n",
    "        P3 = strassen(S3,b11)\n",
    "        P4 = strassen(a22,S4)\n",
    "        P5 = strassen(S5,S6)\n",
    "        P6 = strassen(S7,S8)\n",
    "        P7 = strassen(S9,S10)\n",
    "        \n",
    "        c11 = P5 +P4 -P2 +P6\n",
    "        c12 = P1 +P2\n",
    "        c21 = P3 +P4\n",
    "        c22 = P5 +P1 -P3 -P7\n",
    "\n",
    "        result = np.zeros((n,n))\n",
    "        result[:int(len(result)/2),:int(len(result)/2)] = c11\n",
    "        result[:int(len(result)/2),int(len(result)/2):] = c12\n",
    "        result[int(len(result)/2):,:int(len(result)/2)] = c21\n",
    "        result[int(len(result)/2):,int(len(result)/2):] = c22\n",
    "        return result"
   ]
  },
  {
   "cell_type": "code",
   "execution_count": 5,
   "metadata": {},
   "outputs": [
    {
     "name": "stdout",
     "output_type": "stream",
     "text": [
      "TIME TAKEN:  24816.340373516083\n"
     ]
    }
   ],
   "source": [
    "if __name__ == \"__main__\":\n",
    "    matrice1,matrice2 = read_input('input.txt')\n",
    "    start_time = time.time()\n",
    "    output = strassen(matrice1,matrice2)\n",
    "    print(\"TIME TAKEN: \",time.time()-start_time)\n",
    "    save_ouput(output)"
   ]
  },
  {
   "cell_type": "code",
   "execution_count": null,
   "metadata": {},
   "outputs": [],
   "source": []
  }
 ],
 "metadata": {
  "interpreter": {
   "hash": "916dbcbb3f70747c44a77c7bcd40155683ae19c65e1c03b4aa3499c5328201f1"
  },
  "kernelspec": {
   "display_name": "Python 3.8.10 64-bit",
   "language": "python",
   "name": "python3"
  },
  "language_info": {
   "codemirror_mode": {
    "name": "ipython",
    "version": 3
   },
   "file_extension": ".py",
   "mimetype": "text/x-python",
   "name": "python",
   "nbconvert_exporter": "python",
   "pygments_lexer": "ipython3",
   "version": "3.8.10"
  },
  "orig_nbformat": 4
 },
 "nbformat": 4,
 "nbformat_minor": 2
}
