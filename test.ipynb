{
 "cells": [
  {
   "cell_type": "code",
   "execution_count": 1,
   "metadata": {},
   "outputs": [],
   "source": [
    "import matplotlib.pyplot as plt\n",
    "import numpy as np\n",
    "import time\n",
    "import pandas as pd \n"
   ]
  },
  {
   "cell_type": "code",
   "execution_count": 2,
   "metadata": {},
   "outputs": [],
   "source": [
    "# input_size=taille\n",
    "taille = [2 ** i for i in range(1,12)]\n"
   ]
  },
  {
   "cell_type": "code",
   "execution_count": 3,
   "metadata": {},
   "outputs": [
    {
     "name": "stdout",
     "output_type": "stream",
     "text": [
      "Empty DataFrame\n",
      "Columns: [Matrice_size, naif_time, Strassen_time]\n",
      "Index: []\n"
     ]
    }
   ],
   "source": [
    "log= pd.DataFrame(index=[],columns= ['Matrice_size','naif_time','Strassen_time'])\n",
    "print(log)"
   ]
  },
  {
   "cell_type": "code",
   "execution_count": 30,
   "metadata": {},
   "outputs": [
    {
     "name": "stdout",
     "output_type": "stream",
     "text": [
      "[2, 4, 8, 16, 32, 64, 128, 256, 512, 1024, 2048]\n"
     ]
    }
   ],
   "source": [
    "print(taille)"
   ]
  },
  {
   "cell_type": "code",
   "execution_count": 7,
   "metadata": {},
   "outputs": [
    {
     "name": "stdout",
     "output_type": "stream",
     "text": [
      "2\n",
      "4\n",
      "8\n",
      "16\n",
      "32\n",
      "64\n",
      "128\n",
      "256\n",
      "512\n",
      "1024\n",
      "2048\n",
      "Test naif 2048\n",
      "2048\n"
     ]
    }
   ],
   "source": [
    "  \n",
    "#   Test naif\n",
    "  for size in taille:\n",
    "        print(size)\n",
    "        Matrice1 = np.random.randint(low=-100,high=100,size=(size,size),dtype=int)\n",
    "\n",
    "        # print(Matrice1)\n",
    "\n",
    "        Matrice2=  np.random.randint(low=-100,high=100,size=(size,size),dtype=int)\n",
    "        # print(Matrice2)\n",
    "        \n",
    "         # Test naif algorithme\n",
    "print(\"Test naif {}\".format(size))\n",
    "start_time = 0\n",
    "start_time = time.time()\n",
    "def naif(Matrice1,Matrice2):\n",
    "    \n",
    "    n = len(Matrice1)\n",
    "    print(len(Matrice1))\n",
    "    result = np.zeros((n,n))\n",
    "\n",
    "    for i in range(n):\n",
    "        for j in range(n):\n",
    "            for k in range(n):\n",
    "                result[i,j] += Matrice1[i,k] *Matrice2[k,j]\n",
    "    return result\n",
    "result =naif(Matrice1,Matrice2)\n",
    "duree_naif= time.time()-start_time\n",
    "\n",
    "        #print(result)"
   ]
  },
  {
   "cell_type": "code",
   "execution_count": 11,
   "metadata": {},
   "outputs": [
    {
     "name": "stdout",
     "output_type": "stream",
     "text": [
      "Test Strassen 2048\n"
     ]
    }
   ],
   "source": [
    "\n",
    "def strassen(Matrice1,Matrice2):\n",
    "    n = len(Matrice1)\n",
    "    if n == 1:\n",
    "        return Matrice1 * Matrice2\n",
    "    else:\n",
    "        a11 = Matrice1[:int(len(Matrice1)/2),:int(len(Matrice1)/2)]\n",
    "        a12 = Matrice1[:int(len(Matrice1)/2),int(len(Matrice1)/2):]\n",
    "        a21 = Matrice1[int(len(Matrice1)/2):,:int(len(Matrice1)/2)]\n",
    "        a22 = Matrice1[int(len(Matrice1)/2):,int(len(Matrice1)/2):]\n",
    "\n",
    "        b11 = Matrice2[:int(len(Matrice2)/2),:int(len(Matrice2)/2)]\n",
    "        b12 = Matrice2[:int(len(Matrice2)/2),int(len(Matrice2)/2):]\n",
    "        b21 = Matrice2[int(len(Matrice2)/2):,:int(len(Matrice2)/2)]\n",
    "        b22 = Matrice2[int(len(Matrice2)/2):,int(len(Matrice2)/2):]\n",
    "\n",
    "        S1 = b12 - b22\n",
    "        S2 = a11 + a12\n",
    "        S3 = a21 + a22\n",
    "        S4 = b21 - b11\n",
    "        S5 = a11 + a22\n",
    "        S6 = b11 + b22\n",
    "        S7 = a12 - a22\n",
    "        S8 = b21 + b22\n",
    "        S9 = a11 - a21\n",
    "        S10 = b11 + b12\n",
    "        \n",
    "        P1 = strassen(a11,S1)\n",
    "        P2 = strassen(S2,b22)\n",
    "        P3 = strassen(S3,b11)\n",
    "        P4 = strassen(a22,S4)\n",
    "        P5 = strassen(S5,S6)\n",
    "        P6 = strassen(S7,S8)\n",
    "        P7 = strassen(S9,S10)\n",
    "        \n",
    "        c11 = P5 +P4 -P2 +P6\n",
    "        c12 = P1 +P2\n",
    "        c21 = P3 +P4\n",
    "        c22 = P5 +P1 -P3 -P7\n",
    "\n",
    "        result = np.zeros((n,n))\n",
    "        result[:int(len(result)/2),:int(len(result)/2)] = c11\n",
    "        result[:int(len(result)/2),int(len(result)/2):] = c12\n",
    "        result[int(len(result)/2):,:int(len(result)/2)] = c21\n",
    "        result[int(len(result)/2):,int(len(result)/2):] = c22\n",
    "        return result\n",
    "print(\"Test Strassen {}\".format(size))\n",
    "start_time = 0\n",
    "start_time = time.time()\n",
    "result = strassen(Matrice1,Matrice2)\n",
    "duree_strassen = time.time()-start_time"
   ]
  },
  {
   "cell_type": "code",
   "execution_count": null,
   "metadata": {},
   "outputs": [],
   "source": [
    "   tmp = pd.Series([\n",
    "       taille,\n",
    "       duree_naif,\n",
    "       duree_strassen,  \n",
    "       ], index=['taille','duree_naif','duree_strassen'])\n",
    "       "
   ]
  }
 ],
 "metadata": {
  "interpreter": {
   "hash": "916dbcbb3f70747c44a77c7bcd40155683ae19c65e1c03b4aa3499c5328201f1"
  },
  "kernelspec": {
   "display_name": "Python 3.8.10 64-bit",
   "language": "python",
   "name": "python3"
  },
  "language_info": {
   "codemirror_mode": {
    "name": "ipython",
    "version": 3
   },
   "file_extension": ".py",
   "mimetype": "text/x-python",
   "name": "python",
   "nbconvert_exporter": "python",
   "pygments_lexer": "ipython3",
   "version": "3.8.10"
  },
  "orig_nbformat": 4
 },
 "nbformat": 4,
 "nbformat_minor": 2
}
